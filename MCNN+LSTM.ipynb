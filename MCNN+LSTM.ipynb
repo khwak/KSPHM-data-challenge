{
  "nbformat": 4,
  "nbformat_minor": 0,
  "metadata": {
    "colab": {
      "provenance": []
    },
    "kernelspec": {
      "name": "python3",
      "display_name": "Python 3"
    },
    "language_info": {
      "name": "python"
    }
  },
  "cells": [
    {
      "cell_type": "code",
      "source": [
        "from google.colab import drive\n",
        "drive.mount('/content/drive')"
      ],
      "metadata": {
        "id": "egu67z4hVslb",
        "colab": {
          "base_uri": "https://localhost:8080/"
        },
        "outputId": "d5e966a7-6033-4186-8c8f-66a31c86ada7"
      },
      "execution_count": 3,
      "outputs": [
        {
          "output_type": "stream",
          "name": "stdout",
          "text": [
            "Mounted at /content/drive\n"
          ]
        }
      ]
    },
    {
      "cell_type": "markdown",
      "source": [
        "## 모델"
      ],
      "metadata": {
        "id": "s9wqmxQ4VZaH"
      }
    },
    {
      "cell_type": "code",
      "source": [
        "import tensorflow as tf\n",
        "from tensorflow.keras.layers import Input, Conv1D, MaxPooling1D, multiply, Cropping1D\n",
        "from tensorflow.keras.models import Model\n",
        "from tensorflow.keras.layers import LSTM, Dense, Dropout, Flatten\n",
        "\n",
        "def build_mcnn_model(input_shape):\n",
        "    input_layer = Input(shape=input_shape)  # (80, 4)\n",
        "\n",
        "    # Encoder1: 단순 CNN\n",
        "    x1 = Conv1D(filters=50, kernel_size=16, strides=2, padding='valid', activation='tanh')(input_layer)\n",
        "    x1 = Conv1D(filters=30, kernel_size=8, strides=2, padding='valid', activation='tanh')(x1)\n",
        "    x1 = MaxPooling1D(pool_size=2, padding='valid')(x1)  # (None, 6, 30)\n",
        "\n",
        "    # Encoder2: 복잡 CNN\n",
        "    x2 = Conv1D(filters=50, kernel_size=6, strides=1, padding='valid', activation='tanh')(input_layer)\n",
        "    x2 = Conv1D(filters=40, kernel_size=6, strides=1, padding='valid', activation='tanh')(x2)\n",
        "    x2 = MaxPooling1D(pool_size=2, padding='valid')(x2)\n",
        "    x2 = Conv1D(filters=30, kernel_size=6, strides=1, padding='valid', activation='tanh')(x2)\n",
        "    x2 = Conv1D(filters=30, kernel_size=6, strides=2, padding='valid', activation='tanh')(x2)\n",
        "    x2 = MaxPooling1D(pool_size=2, padding='valid')(x2)  # (None, 6, 30)\n",
        "\n",
        "    # 길이 확인\n",
        "    print(\"x1 shape:\", x1.shape)\n",
        "    print(\"x2 shape:\", x2.shape)\n",
        "\n",
        "    # multiply 병합\n",
        "    merged = multiply([x1, x2])\n",
        "\n",
        "    ## LSTM ##\n",
        "    lstm = LSTM(64, return_sequences=False)(merged)  # or return_sequences=True if stacking\n",
        "    dropout = Dropout(0.3)(lstm)\n",
        "\n",
        "    # 출력층 (잔존 수명 예측: 회귀 문제 → 1차원 출력)\n",
        "    output = Dense(1, activation='linear')(dropout)\n",
        "\n",
        "    # 모델 정의\n",
        "    model = Model(inputs=input_layer, outputs=output)\n",
        "    return model\n"
      ],
      "metadata": {
        "id": "8VpNAssQJKFc"
      },
      "execution_count": 1,
      "outputs": []
    },
    {
      "cell_type": "markdown",
      "source": [
        "## 데이터 불러오기"
      ],
      "metadata": {
        "id": "_Qw8IrgtV5d_"
      }
    },
    {
      "cell_type": "code",
      "source": [
        "import pandas as pd\n",
        "import numpy as np\n",
        "from sklearn.model_selection import train_test_split\n",
        "\n",
        "# CSV 불러오기\n",
        "csv_path = \"/content/train1_extracted_features_with_rul.csv\"\n",
        "df = pd.read_csv(csv_path)\n",
        "\n",
        "# 입력 (X), 라벨 (y) 분리\n",
        "X = df.drop(columns=[\"RUL\"]).values  # shape: (samples, features)\n",
        "y = df[\"RUL\"].values  # shape: (samples,)\n",
        "\n",
        "# 3D 형태로 변환 (MCNN용): (samples, time steps, channels)\n",
        "# 예: time_steps = 80, channels = 4  → 320개 feature일 경우\n",
        "X_reshaped = X.reshape(X.shape[0], 80, 4)\n",
        "\n",
        "# Train/Validation Split\n",
        "X_train, X_val, y_train, y_val = train_test_split(X_reshaped, y, test_size=0.2, random_state=42)\n",
        "\n",
        "# y의 shape을 (N, 1)로 변경 (회귀 모델의 출력과 맞춤)\n",
        "y_train = y_train.reshape(-1, 1)\n",
        "y_val = y_val.reshape(-1, 1)"
      ],
      "metadata": {
        "id": "lMtfI0jlVt8I"
      },
      "execution_count": 3,
      "outputs": []
    },
    {
      "cell_type": "code",
      "source": [
        "print(\"X_train shape:\", X_train.shape)  # 예상: (N, 80, 4)\n",
        "print(\"y_train shape:\", y_train.shape)  # 예상: (N, 1)"
      ],
      "metadata": {
        "id": "jO7yXi96VxfJ",
        "colab": {
          "base_uri": "https://localhost:8080/"
        },
        "outputId": "60bd3ff0-97e2-44d8-e02c-29f0669b82aa"
      },
      "execution_count": 4,
      "outputs": [
        {
          "output_type": "stream",
          "name": "stdout",
          "text": [
            "X_train shape: (1503, 80, 4)\n",
            "y_train shape: (1503, 1)\n"
          ]
        }
      ]
    },
    {
      "cell_type": "markdown",
      "source": [
        "## 모델 학습"
      ],
      "metadata": {
        "id": "Kg02jT4bV88e"
      }
    },
    {
      "cell_type": "code",
      "source": [
        "from tensorflow.keras.callbacks import EarlyStopping\n",
        "\n",
        "model = build_mcnn_model(input_shape=(X_train.shape[1], X_train.shape[2]))\n",
        "model.compile(optimizer='adam', loss='mse', metrics=['mae'])\n",
        "\n",
        "early_stop = EarlyStopping(monitor='val_loss', patience=5, restore_best_weights=True)\n",
        "\n",
        "history = model.fit(X_train, y_train,\n",
        "                    epochs=50,\n",
        "                    batch_size=32,\n",
        "                    validation_data=(X_val, y_val),\n",
        "                    callbacks=[early_stop])"
      ],
      "metadata": {
        "id": "ohJeYsvLV1EI",
        "colab": {
          "base_uri": "https://localhost:8080/"
        },
        "outputId": "8942b570-be34-416e-aaba-8e2b7f15ac8d"
      },
      "execution_count": 5,
      "outputs": [
        {
          "output_type": "stream",
          "name": "stdout",
          "text": [
            "x1 shape: (None, 6, 30)\n",
            "x2 shape: (None, 6, 30)\n",
            "Epoch 1/50\n",
            "\u001b[1m47/47\u001b[0m \u001b[32m━━━━━━━━━━━━━━━━━━━━\u001b[0m\u001b[37m\u001b[0m \u001b[1m9s\u001b[0m 37ms/step - loss: 1180190.5000 - mae: 942.1583 - val_loss: 1133581.2500 - val_mae: 908.7778\n",
            "Epoch 2/50\n",
            "\u001b[1m47/47\u001b[0m \u001b[32m━━━━━━━━━━━━━━━━━━━━\u001b[0m\u001b[37m\u001b[0m \u001b[1m2s\u001b[0m 36ms/step - loss: 1142483.2500 - mae: 920.7441 - val_loss: 1126026.6250 - val_mae: 904.7159\n",
            "Epoch 3/50\n",
            "\u001b[1m47/47\u001b[0m \u001b[32m━━━━━━━━━━━━━━━━━━━━\u001b[0m\u001b[37m\u001b[0m \u001b[1m2s\u001b[0m 21ms/step - loss: 1156643.2500 - mae: 930.4487 - val_loss: 1119698.0000 - val_mae: 901.3040\n",
            "Epoch 4/50\n",
            "\u001b[1m47/47\u001b[0m \u001b[32m━━━━━━━━━━━━━━━━━━━━\u001b[0m\u001b[37m\u001b[0m \u001b[1m1s\u001b[0m 22ms/step - loss: 1161438.0000 - mae: 938.6842 - val_loss: 1113721.2500 - val_mae: 898.0694\n",
            "Epoch 5/50\n",
            "\u001b[1m47/47\u001b[0m \u001b[32m━━━━━━━━━━━━━━━━━━━━\u001b[0m\u001b[37m\u001b[0m \u001b[1m1s\u001b[0m 23ms/step - loss: 1128781.1250 - mae: 913.9237 - val_loss: 1108026.5000 - val_mae: 894.9929\n",
            "Epoch 6/50\n",
            "\u001b[1m47/47\u001b[0m \u001b[32m━━━━━━━━━━━━━━━━━━━━\u001b[0m\u001b[37m\u001b[0m \u001b[1m1s\u001b[0m 22ms/step - loss: 1118958.2500 - mae: 909.9828 - val_loss: 1102366.6250 - val_mae: 891.9246\n",
            "Epoch 7/50\n",
            "\u001b[1m47/47\u001b[0m \u001b[32m━━━━━━━━━━━━━━━━━━━━\u001b[0m\u001b[37m\u001b[0m \u001b[1m1s\u001b[0m 22ms/step - loss: 1117496.7500 - mae: 912.4693 - val_loss: 1096836.6250 - val_mae: 888.9164\n",
            "Epoch 8/50\n",
            "\u001b[1m47/47\u001b[0m \u001b[32m━━━━━━━━━━━━━━━━━━━━\u001b[0m\u001b[37m\u001b[0m \u001b[1m1s\u001b[0m 21ms/step - loss: 1154971.0000 - mae: 928.5986 - val_loss: 1091321.3750 - val_mae: 885.9265\n",
            "Epoch 9/50\n",
            "\u001b[1m47/47\u001b[0m \u001b[32m━━━━━━━━━━━━━━━━━━━━\u001b[0m\u001b[37m\u001b[0m \u001b[1m1s\u001b[0m 21ms/step - loss: 1123280.7500 - mae: 910.9836 - val_loss: 1085932.3750 - val_mae: 883.0147\n",
            "Epoch 10/50\n",
            "\u001b[1m47/47\u001b[0m \u001b[32m━━━━━━━━━━━━━━━━━━━━\u001b[0m\u001b[37m\u001b[0m \u001b[1m1s\u001b[0m 22ms/step - loss: 1083812.5000 - mae: 894.7292 - val_loss: 1080574.1250 - val_mae: 880.1178\n",
            "Epoch 11/50\n",
            "\u001b[1m47/47\u001b[0m \u001b[32m━━━━━━━━━━━━━━━━━━━━\u001b[0m\u001b[37m\u001b[0m \u001b[1m2s\u001b[0m 32ms/step - loss: 1124848.2500 - mae: 916.5299 - val_loss: 1075235.1250 - val_mae: 877.2213\n",
            "Epoch 12/50\n",
            "\u001b[1m47/47\u001b[0m \u001b[32m━━━━━━━━━━━━━━━━━━━━\u001b[0m\u001b[37m\u001b[0m \u001b[1m2s\u001b[0m 35ms/step - loss: 1072977.5000 - mae: 884.4974 - val_loss: 1070001.7500 - val_mae: 874.3723\n",
            "Epoch 13/50\n",
            "\u001b[1m47/47\u001b[0m \u001b[32m━━━━━━━━━━━━━━━━━━━━\u001b[0m\u001b[37m\u001b[0m \u001b[1m2s\u001b[0m 22ms/step - loss: 1066093.0000 - mae: 879.1354 - val_loss: 1064754.0000 - val_mae: 871.5057\n",
            "Epoch 14/50\n",
            "\u001b[1m47/47\u001b[0m \u001b[32m━━━━━━━━━━━━━━━━━━━━\u001b[0m\u001b[37m\u001b[0m \u001b[1m1s\u001b[0m 21ms/step - loss: 1054350.1250 - mae: 878.7926 - val_loss: 1059515.5000 - val_mae: 868.6427\n",
            "Epoch 15/50\n",
            "\u001b[1m47/47\u001b[0m \u001b[32m━━━━━━━━━━━━━━━━━━━━\u001b[0m\u001b[37m\u001b[0m \u001b[1m2s\u001b[0m 26ms/step - loss: 1124247.7500 - mae: 911.6998 - val_loss: 1054309.6250 - val_mae: 865.7951\n",
            "Epoch 16/50\n",
            "\u001b[1m47/47\u001b[0m \u001b[32m━━━━━━━━━━━━━━━━━━━━\u001b[0m\u001b[37m\u001b[0m \u001b[1m1s\u001b[0m 21ms/step - loss: 1035450.5625 - mae: 869.7196 - val_loss: 1049161.7500 - val_mae: 862.9727\n",
            "Epoch 17/50\n",
            "\u001b[1m47/47\u001b[0m \u001b[32m━━━━━━━━━━━━━━━━━━━━\u001b[0m\u001b[37m\u001b[0m \u001b[1m1s\u001b[0m 22ms/step - loss: 1077399.6250 - mae: 881.1854 - val_loss: 1044098.8125 - val_mae: 860.2026\n",
            "Epoch 18/50\n",
            "\u001b[1m47/47\u001b[0m \u001b[32m━━━━━━━━━━━━━━━━━━━━\u001b[0m\u001b[37m\u001b[0m \u001b[1m1s\u001b[0m 22ms/step - loss: 1097402.2500 - mae: 894.1066 - val_loss: 1038963.5625 - val_mae: 857.4125\n",
            "Epoch 19/50\n",
            "\u001b[1m47/47\u001b[0m \u001b[32m━━━━━━━━━━━━━━━━━━━━\u001b[0m\u001b[37m\u001b[0m \u001b[1m1s\u001b[0m 23ms/step - loss: 1046056.7500 - mae: 877.0903 - val_loss: 1033909.3750 - val_mae: 854.6804\n",
            "Epoch 20/50\n",
            "\u001b[1m47/47\u001b[0m \u001b[32m━━━━━━━━━━━━━━━━━━━━\u001b[0m\u001b[37m\u001b[0m \u001b[1m1s\u001b[0m 26ms/step - loss: 1087010.7500 - mae: 898.4711 - val_loss: 1028840.8750 - val_mae: 851.9410\n",
            "Epoch 21/50\n",
            "\u001b[1m47/47\u001b[0m \u001b[32m━━━━━━━━━━━━━━━━━━━━\u001b[0m\u001b[37m\u001b[0m \u001b[1m2s\u001b[0m 36ms/step - loss: 1037803.2500 - mae: 871.0225 - val_loss: 1023843.5625 - val_mae: 849.2515\n",
            "Epoch 22/50\n",
            "\u001b[1m47/47\u001b[0m \u001b[32m━━━━━━━━━━━━━━━━━━━━\u001b[0m\u001b[37m\u001b[0m \u001b[1m2s\u001b[0m 21ms/step - loss: 1042011.3125 - mae: 870.3307 - val_loss: 1018865.0000 - val_mae: 846.5709\n",
            "Epoch 23/50\n",
            "\u001b[1m47/47\u001b[0m \u001b[32m━━━━━━━━━━━━━━━━━━━━\u001b[0m\u001b[37m\u001b[0m \u001b[1m1s\u001b[0m 21ms/step - loss: 1052383.6250 - mae: 878.7691 - val_loss: 1013892.4375 - val_mae: 843.8844\n",
            "Epoch 24/50\n",
            "\u001b[1m47/47\u001b[0m \u001b[32m━━━━━━━━━━━━━━━━━━━━\u001b[0m\u001b[37m\u001b[0m \u001b[1m1s\u001b[0m 22ms/step - loss: 1044717.8125 - mae: 874.7348 - val_loss: 1008994.0625 - val_mae: 841.2402\n",
            "Epoch 25/50\n",
            "\u001b[1m47/47\u001b[0m \u001b[32m━━━━━━━━━━━━━━━━━━━━\u001b[0m\u001b[37m\u001b[0m \u001b[1m1s\u001b[0m 22ms/step - loss: 1022552.5625 - mae: 866.4730 - val_loss: 1004037.2500 - val_mae: 838.5591\n",
            "Epoch 26/50\n",
            "\u001b[1m47/47\u001b[0m \u001b[32m━━━━━━━━━━━━━━━━━━━━\u001b[0m\u001b[37m\u001b[0m \u001b[1m1s\u001b[0m 22ms/step - loss: 1022363.8125 - mae: 855.2349 - val_loss: 999197.9375 - val_mae: 835.9323\n",
            "Epoch 27/50\n",
            "\u001b[1m47/47\u001b[0m \u001b[32m━━━━━━━━━━━━━━━━━━━━\u001b[0m\u001b[37m\u001b[0m \u001b[1m1s\u001b[0m 21ms/step - loss: 1035731.8125 - mae: 866.9535 - val_loss: 994328.0625 - val_mae: 833.2849\n",
            "Epoch 28/50\n",
            "\u001b[1m47/47\u001b[0m \u001b[32m━━━━━━━━━━━━━━━━━━━━\u001b[0m\u001b[37m\u001b[0m \u001b[1m2s\u001b[0m 32ms/step - loss: 965152.7500 - mae: 822.2463 - val_loss: 989520.8750 - val_mae: 830.6724\n",
            "Epoch 29/50\n",
            "\u001b[1m47/47\u001b[0m \u001b[32m━━━━━━━━━━━━━━━━━━━━\u001b[0m\u001b[37m\u001b[0m \u001b[1m3s\u001b[0m 36ms/step - loss: 994441.3125 - mae: 845.4590 - val_loss: 984666.0625 - val_mae: 828.0247\n",
            "Epoch 30/50\n",
            "\u001b[1m47/47\u001b[0m \u001b[32m━━━━━━━━━━━━━━━━━━━━\u001b[0m\u001b[37m\u001b[0m \u001b[1m1s\u001b[0m 25ms/step - loss: 1000776.7500 - mae: 849.6443 - val_loss: 979863.3125 - val_mae: 825.3961\n",
            "Epoch 31/50\n",
            "\u001b[1m47/47\u001b[0m \u001b[32m━━━━━━━━━━━━━━━━━━━━\u001b[0m\u001b[37m\u001b[0m \u001b[1m1s\u001b[0m 20ms/step - loss: 1012146.0000 - mae: 849.7924 - val_loss: 975141.8750 - val_mae: 822.8063\n",
            "Epoch 32/50\n",
            "\u001b[1m47/47\u001b[0m \u001b[32m━━━━━━━━━━━━━━━━━━━━\u001b[0m\u001b[37m\u001b[0m \u001b[1m1s\u001b[0m 20ms/step - loss: 995469.6250 - mae: 846.8209 - val_loss: 970434.1875 - val_mae: 820.2404\n",
            "Epoch 33/50\n",
            "\u001b[1m47/47\u001b[0m \u001b[32m━━━━━━━━━━━━━━━━━━━━\u001b[0m\u001b[37m\u001b[0m \u001b[1m1s\u001b[0m 20ms/step - loss: 1020647.4375 - mae: 851.9091 - val_loss: 965713.8750 - val_mae: 817.6680\n",
            "Epoch 34/50\n",
            "\u001b[1m47/47\u001b[0m \u001b[32m━━━━━━━━━━━━━━━━━━━━\u001b[0m\u001b[37m\u001b[0m \u001b[1m1s\u001b[0m 21ms/step - loss: 943037.3125 - mae: 814.4169 - val_loss: 961077.1875 - val_mae: 815.1396\n",
            "Epoch 35/50\n",
            "\u001b[1m47/47\u001b[0m \u001b[32m━━━━━━━━━━━━━━━━━━━━\u001b[0m\u001b[37m\u001b[0m \u001b[1m1s\u001b[0m 20ms/step - loss: 989363.6250 - mae: 839.2394 - val_loss: 956406.3125 - val_mae: 812.5836\n",
            "Epoch 36/50\n",
            "\u001b[1m47/47\u001b[0m \u001b[32m━━━━━━━━━━━━━━━━━━━━\u001b[0m\u001b[37m\u001b[0m \u001b[1m1s\u001b[0m 20ms/step - loss: 1019196.5000 - mae: 857.0170 - val_loss: 951730.5625 - val_mae: 810.0164\n",
            "Epoch 37/50\n",
            "\u001b[1m47/47\u001b[0m \u001b[32m━━━━━━━━━━━━━━━━━━━━\u001b[0m\u001b[37m\u001b[0m \u001b[1m1s\u001b[0m 22ms/step - loss: 974498.6250 - mae: 834.4635 - val_loss: 947148.6250 - val_mae: 807.5165\n",
            "Epoch 38/50\n",
            "\u001b[1m47/47\u001b[0m \u001b[32m━━━━━━━━━━━━━━━━━━━━\u001b[0m\u001b[37m\u001b[0m \u001b[1m1s\u001b[0m 22ms/step - loss: 962631.2500 - mae: 827.4583 - val_loss: 942531.3750 - val_mae: 805.0033\n",
            "Epoch 39/50\n",
            "\u001b[1m47/47\u001b[0m \u001b[32m━━━━━━━━━━━━━━━━━━━━\u001b[0m\u001b[37m\u001b[0m \u001b[1m2s\u001b[0m 34ms/step - loss: 949851.3125 - mae: 822.2235 - val_loss: 937979.5625 - val_mae: 802.5219\n",
            "Epoch 40/50\n",
            "\u001b[1m47/47\u001b[0m \u001b[32m━━━━━━━━━━━━━━━━━━━━\u001b[0m\u001b[37m\u001b[0m \u001b[1m2s\u001b[0m 21ms/step - loss: 972309.7500 - mae: 836.5878 - val_loss: 933383.3125 - val_mae: 800.0105\n",
            "Epoch 41/50\n",
            "\u001b[1m47/47\u001b[0m \u001b[32m━━━━━━━━━━━━━━━━━━━━\u001b[0m\u001b[37m\u001b[0m \u001b[1m1s\u001b[0m 22ms/step - loss: 955356.5625 - mae: 822.2629 - val_loss: 928860.7500 - val_mae: 797.5504\n",
            "Epoch 42/50\n",
            "\u001b[1m47/47\u001b[0m \u001b[32m━━━━━━━━━━━━━━━━━━━━\u001b[0m\u001b[37m\u001b[0m \u001b[1m1s\u001b[0m 22ms/step - loss: 938994.0625 - mae: 819.6061 - val_loss: 924365.8125 - val_mae: 795.1035\n",
            "Epoch 43/50\n",
            "\u001b[1m47/47\u001b[0m \u001b[32m━━━━━━━━━━━━━━━━━━━━\u001b[0m\u001b[37m\u001b[0m \u001b[1m1s\u001b[0m 22ms/step - loss: 960760.8750 - mae: 831.5531 - val_loss: 919858.1875 - val_mae: 792.6408\n",
            "Epoch 44/50\n",
            "\u001b[1m47/47\u001b[0m \u001b[32m━━━━━━━━━━━━━━━━━━━━\u001b[0m\u001b[37m\u001b[0m \u001b[1m1s\u001b[0m 22ms/step - loss: 960984.6875 - mae: 830.5695 - val_loss: 915416.1875 - val_mae: 790.2160\n",
            "Epoch 45/50\n",
            "\u001b[1m47/47\u001b[0m \u001b[32m━━━━━━━━━━━━━━━━━━━━\u001b[0m\u001b[37m\u001b[0m \u001b[1m1s\u001b[0m 21ms/step - loss: 941602.1250 - mae: 818.3981 - val_loss: 910989.3750 - val_mae: 787.8050\n",
            "Epoch 46/50\n",
            "\u001b[1m47/47\u001b[0m \u001b[32m━━━━━━━━━━━━━━━━━━━━\u001b[0m\u001b[37m\u001b[0m \u001b[1m1s\u001b[0m 20ms/step - loss: 923982.3125 - mae: 809.7869 - val_loss: 906566.3125 - val_mae: 785.3922\n",
            "Epoch 47/50\n",
            "\u001b[1m47/47\u001b[0m \u001b[32m━━━━━━━━━━━━━━━━━━━━\u001b[0m\u001b[37m\u001b[0m \u001b[1m1s\u001b[0m 21ms/step - loss: 921671.6875 - mae: 803.8583 - val_loss: 902154.6250 - val_mae: 782.9906\n",
            "Epoch 48/50\n",
            "\u001b[1m47/47\u001b[0m \u001b[32m━━━━━━━━━━━━━━━━━━━━\u001b[0m\u001b[37m\u001b[0m \u001b[1m2s\u001b[0m 33ms/step - loss: 923765.0625 - mae: 805.7798 - val_loss: 897774.4375 - val_mae: 780.5986\n",
            "Epoch 49/50\n",
            "\u001b[1m47/47\u001b[0m \u001b[32m━━━━━━━━━━━━━━━━━━━━\u001b[0m\u001b[37m\u001b[0m \u001b[1m2s\u001b[0m 21ms/step - loss: 889822.6250 - mae: 781.0887 - val_loss: 893406.3750 - val_mae: 778.2061\n",
            "Epoch 50/50\n",
            "\u001b[1m47/47\u001b[0m \u001b[32m━━━━━━━━━━━━━━━━━━━━\u001b[0m\u001b[37m\u001b[0m \u001b[1m1s\u001b[0m 21ms/step - loss: 872469.5000 - mae: 777.1462 - val_loss: 889091.7500 - val_mae: 775.8481\n"
          ]
        }
      ]
    },
    {
      "cell_type": "markdown",
      "source": [
        "## 학습 확인"
      ],
      "metadata": {
        "id": "I9sWuIcmV_Ax"
      }
    },
    {
      "cell_type": "code",
      "source": [
        "import matplotlib.pyplot as plt\n",
        "\n",
        "plt.plot(history.history['loss'], label='Train Loss')\n",
        "plt.plot(history.history['val_loss'], label='Val Loss')\n",
        "plt.legend()\n",
        "plt.title('MCNN train')\n",
        "plt.xlabel('Epoch')\n",
        "plt.ylabel('MSE Loss')\n",
        "plt.show()"
      ],
      "metadata": {
        "id": "hjvMLOOsV3I-",
        "colab": {
          "base_uri": "https://localhost:8080/",
          "height": 493
        },
        "outputId": "7e50e165-19c3-40f0-f80d-ac4dbc5f9dc4"
      },
      "execution_count": 6,
      "outputs": [
        {
          "output_type": "display_data",
          "data": {
            "text/plain": [
              "<Figure size 640x480 with 1 Axes>"
            ],
            "image/png": "[encoded data removed]"
          },
          "metadata": {}
        }
      ]
    },
    {
      "cell_type": "markdown",
      "source": [
        "## 모델 평가"
      ],
      "metadata": {
        "id": "0h-mBj4WWCE1"
      }
    }
  ]
}